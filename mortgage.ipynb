{
 "cells": [
  {
   "cell_type": "markdown",
   "id": "816041be",
   "metadata": {},
   "source": [
    "# Import libraries"
   ]
  },
  {
   "cell_type": "code",
   "execution_count": 1,
   "id": "e8be891d",
   "metadata": {},
   "outputs": [],
   "source": [
    "import pandas as pd\n",
    "import matplotlib.pyplot as plt\n",
    "import numpy as np\n",
    "import seaborn as sns\n",
    "import pickle\n",
    "from statistics import mean\n",
    "from collections import Counter\n",
    "from sklearn.metrics import accuracy_score, classification_report, confusion_matrix\n",
    "from sklearn.model_selection import train_test_split, RepeatedStratifiedKFold, cross_val_score\n",
    "from sklearn.linear_model import LogisticRegression\n",
    "from sklearn.ensemble import RandomForestClassifier\n",
    "from imblearn import under_sampling, over_sampling\n",
    "from imblearn.over_sampling import SMOTE, RandomOverSampler\n",
    "import warnings \n",
    "warnings.simplefilter(action='ignore')\n",
    "from xgboost import XGBClassifier\n",
    "\n",
    "sns.set(style = \"whitegrid\", palette = \"Set2\")"
   ]
  },
  {
   "cell_type": "markdown",
   "id": "01545bda",
   "metadata": {},
   "source": [
    "# Load data"
   ]
  },
  {
   "cell_type": "code",
   "execution_count": 2,
   "id": "7d16a56d",
   "metadata": {},
   "outputs": [
    {
     "name": "stdout",
     "output_type": "stream",
     "text": [
      "<class 'pandas.core.frame.DataFrame'>\n",
      "RangeIndex: 23983 entries, 0 to 23982\n",
      "Data columns (total 14 columns):\n",
      " #   Column                  Non-Null Count  Dtype  \n",
      "---  ------                  --------------  -----  \n",
      " 0   Cocunut                 23983 non-null  int64  \n",
      " 1   Mortgage_YN             23983 non-null  object \n",
      " 2   AGE_AT_ORIGINATION      306 non-null    float64\n",
      " 3   AGE                     23983 non-null  int64  \n",
      " 4   YEARS_WITH_BANK         23983 non-null  int64  \n",
      " 5   MARTIAL_STATUS          23983 non-null  object \n",
      " 6   EDUCATION               23983 non-null  object \n",
      " 7   EMPLOYMENT              23983 non-null  object \n",
      " 8   GENDER                  23983 non-null  object \n",
      " 9   CUST_INCOME             23983 non-null  object \n",
      " 10  CURRENT_ADDRESS_DATE    23983 non-null  object \n",
      " 11  CURRENT_JOB_DATE        23983 non-null  object \n",
      " 12  CURRENT_WITH_BANK_DATE  23983 non-null  object \n",
      " 13  CURRENT_BALANCE_EUR     23983 non-null  object \n",
      "dtypes: float64(1), int64(3), object(10)\n",
      "memory usage: 2.6+ MB\n"
     ]
    }
   ],
   "source": [
    "retail_data = pd.read_csv('Retail data.csv', sep=';')\n",
    "potential_customers = pd.read_csv('Potential customers.csv', sep=';')\n",
    "\n",
    "info = retail_data.info()"
   ]
  },
  {
   "cell_type": "markdown",
   "id": "5dc58f47",
   "metadata": {},
   "source": [
    "# Data cleaning\n",
    "\n",
    "- Rename column names to make them more intuitive\n",
    "- Check for Date format incorrect values and change Date object to pandas Datatime\n",
    "- Remove incorect date values or replace them\n",
    "- Typecasting: convert object to categorical/numerical\n",
    "- Check for missing values, duplicates\n",
    "- Add new potential columns\n",
    "- Transform some date columns\n",
    "- Drop the first column "
   ]
  },
  {
   "cell_type": "markdown",
   "id": "c1b3d5ab",
   "metadata": {},
   "source": [
    "Rename column values to make them more intuitive for visualization"
   ]
  },
  {
   "cell_type": "code",
   "execution_count": 3,
   "id": "4071ac52",
   "metadata": {},
   "outputs": [],
   "source": [
    "retail_data = retail_data.rename(columns=str.lower)\n",
    "potential_customers = potential_customers.rename(columns=str.lower)\n",
    "retail_data.rename({'martial_status':'marital_status',\n",
    "           'cust_income':'customer_income',\n",
    "           'mortgage_yn':'has_mortgage'}, axis=1, inplace=True)\n",
    "\n",
    "retail_data['gender'] = retail_data.gender.map({'M':'Male', 'F':'Female'})\n",
    "retail_data['education'] = retail_data.education.map({'HGH':'High School', 'MAS':'Masters', 'BCR':'Bachelor', 'OCR':'Ordinary', 'SEC':'Secondary'  })\n",
    "retail_data['marital_status'] = retail_data.marital_status.map({'M':'Married', 'S':'Single', 'D':'Divorced','*noval*':'Single'})"
   ]
  },
  {
   "cell_type": "code",
   "execution_count": 4,
   "id": "b02e5083",
   "metadata": {},
   "outputs": [],
   "source": [
    "retail_data['current_address_date'] = pd.to_datetime(retail_data.current_address_date, errors = 'coerce')\n",
    "retail_data['current_job_date'] = pd.to_datetime(retail_data.current_job_date, errors = 'coerce')\n",
    "retail_data['current_with_bank_date'] = pd.to_datetime(retail_data.current_with_bank_date, errors = 'coerce')\n",
    "retail_data['marital_status'] = retail_data.marital_status.astype('category')\n",
    "retail_data['education'] = retail_data.education.astype('category')\n",
    "retail_data['employment'] = retail_data.employment.astype('category')\n",
    "retail_data['gender'] = retail_data.gender.astype('category')\n",
    "retail_data['customer_income'] = retail_data.customer_income.str.replace(',', '.').astype(float)\n",
    "retail_data['current_balance_eur'] = retail_data.current_balance_eur.str.replace(',', '.').astype(float)\n",
    "\n",
    "retail_data.age_at_origination.fillna(0, inplace=True)\n",
    "retail_data['current_job_date'].isna().value_counts() # replcae missing values\n",
    "retail_data['age_at_origination'].isna().value_counts() \n",
    "retail_data['current_address_date'] = retail_data.current_address_date.fillna(pd.Timestamp.min.ceil('D'))\n",
    "retail_data['current_job_date'] = retail_data.current_job_date.fillna(pd.Timestamp.min.ceil('D'))\n",
    "retail_data.drop('cocunut',axis=1, inplace=True)"
   ]
  },
  {
   "cell_type": "code",
   "execution_count": 5,
   "id": "90230a4f",
   "metadata": {},
   "outputs": [
    {
     "data": {
      "text/html": [
       "<div>\n",
       "<style scoped>\n",
       "    .dataframe tbody tr th:only-of-type {\n",
       "        vertical-align: middle;\n",
       "    }\n",
       "\n",
       "    .dataframe tbody tr th {\n",
       "        vertical-align: top;\n",
       "    }\n",
       "\n",
       "    .dataframe thead th {\n",
       "        text-align: right;\n",
       "    }\n",
       "</style>\n",
       "<table border=\"1\" class=\"dataframe\">\n",
       "  <thead>\n",
       "    <tr style=\"text-align: right;\">\n",
       "      <th></th>\n",
       "      <th>has_mortgage</th>\n",
       "      <th>age_at_origination</th>\n",
       "      <th>age</th>\n",
       "      <th>years_with_bank</th>\n",
       "      <th>marital_status</th>\n",
       "      <th>education</th>\n",
       "      <th>employment</th>\n",
       "      <th>gender</th>\n",
       "      <th>customer_income</th>\n",
       "      <th>current_address_date</th>\n",
       "      <th>current_job_date</th>\n",
       "      <th>current_with_bank_date</th>\n",
       "      <th>current_balance_eur</th>\n",
       "    </tr>\n",
       "  </thead>\n",
       "  <tbody>\n",
       "    <tr>\n",
       "      <th>0</th>\n",
       "      <td>Y</td>\n",
       "      <td>50.0</td>\n",
       "      <td>52</td>\n",
       "      <td>13</td>\n",
       "      <td>Married</td>\n",
       "      <td>High School</td>\n",
       "      <td>PVE</td>\n",
       "      <td>Male</td>\n",
       "      <td>909.501308</td>\n",
       "      <td>1979-04-18</td>\n",
       "      <td>2010-01-01</td>\n",
       "      <td>2004-03-16</td>\n",
       "      <td>7648.350692</td>\n",
       "    </tr>\n",
       "    <tr>\n",
       "      <th>1</th>\n",
       "      <td>Y</td>\n",
       "      <td>48.0</td>\n",
       "      <td>49</td>\n",
       "      <td>11</td>\n",
       "      <td>Married</td>\n",
       "      <td>High School</td>\n",
       "      <td>SFE</td>\n",
       "      <td>Male</td>\n",
       "      <td>288.461539</td>\n",
       "      <td>1999-12-16</td>\n",
       "      <td>2004-01-20</td>\n",
       "      <td>2005-11-07</td>\n",
       "      <td>30189.904920</td>\n",
       "    </tr>\n",
       "    <tr>\n",
       "      <th>2</th>\n",
       "      <td>Y</td>\n",
       "      <td>53.0</td>\n",
       "      <td>55</td>\n",
       "      <td>14</td>\n",
       "      <td>Married</td>\n",
       "      <td>Bachelor</td>\n",
       "      <td>STE</td>\n",
       "      <td>Male</td>\n",
       "      <td>1280.528692</td>\n",
       "      <td>2005-06-28</td>\n",
       "      <td>1990-09-01</td>\n",
       "      <td>2003-06-25</td>\n",
       "      <td>50553.174540</td>\n",
       "    </tr>\n",
       "    <tr>\n",
       "      <th>3</th>\n",
       "      <td>Y</td>\n",
       "      <td>64.0</td>\n",
       "      <td>66</td>\n",
       "      <td>10</td>\n",
       "      <td>Married</td>\n",
       "      <td>Bachelor</td>\n",
       "      <td>OTH</td>\n",
       "      <td>Female</td>\n",
       "      <td>620.959769</td>\n",
       "      <td>2000-12-22</td>\n",
       "      <td>1677-09-22</td>\n",
       "      <td>2006-12-21</td>\n",
       "      <td>15907.283380</td>\n",
       "    </tr>\n",
       "    <tr>\n",
       "      <th>4</th>\n",
       "      <td>Y</td>\n",
       "      <td>46.0</td>\n",
       "      <td>47</td>\n",
       "      <td>9</td>\n",
       "      <td>Single</td>\n",
       "      <td>Masters</td>\n",
       "      <td>PVE</td>\n",
       "      <td>Female</td>\n",
       "      <td>2239.853846</td>\n",
       "      <td>2009-08-01</td>\n",
       "      <td>2013-12-24</td>\n",
       "      <td>2007-08-07</td>\n",
       "      <td>27916.192620</td>\n",
       "    </tr>\n",
       "    <tr>\n",
       "      <th>5</th>\n",
       "      <td>Y</td>\n",
       "      <td>34.0</td>\n",
       "      <td>35</td>\n",
       "      <td>10</td>\n",
       "      <td>Single</td>\n",
       "      <td>Bachelor</td>\n",
       "      <td>STE</td>\n",
       "      <td>Female</td>\n",
       "      <td>1016.004308</td>\n",
       "      <td>1677-09-22</td>\n",
       "      <td>2006-08-01</td>\n",
       "      <td>2006-08-02</td>\n",
       "      <td>26571.472000</td>\n",
       "    </tr>\n",
       "    <tr>\n",
       "      <th>6</th>\n",
       "      <td>Y</td>\n",
       "      <td>51.0</td>\n",
       "      <td>53</td>\n",
       "      <td>10</td>\n",
       "      <td>Married</td>\n",
       "      <td>High School</td>\n",
       "      <td>STE</td>\n",
       "      <td>Female</td>\n",
       "      <td>458.609231</td>\n",
       "      <td>1992-12-31</td>\n",
       "      <td>1984-12-13</td>\n",
       "      <td>2006-10-27</td>\n",
       "      <td>21949.504000</td>\n",
       "    </tr>\n",
       "    <tr>\n",
       "      <th>7</th>\n",
       "      <td>Y</td>\n",
       "      <td>56.0</td>\n",
       "      <td>58</td>\n",
       "      <td>10</td>\n",
       "      <td>Married</td>\n",
       "      <td>High School</td>\n",
       "      <td>PVE</td>\n",
       "      <td>Female</td>\n",
       "      <td>615.384615</td>\n",
       "      <td>1998-03-31</td>\n",
       "      <td>2005-09-20</td>\n",
       "      <td>2007-06-27</td>\n",
       "      <td>50387.558850</td>\n",
       "    </tr>\n",
       "    <tr>\n",
       "      <th>8</th>\n",
       "      <td>Y</td>\n",
       "      <td>46.0</td>\n",
       "      <td>47</td>\n",
       "      <td>14</td>\n",
       "      <td>Married</td>\n",
       "      <td>Bachelor</td>\n",
       "      <td>PVE</td>\n",
       "      <td>Male</td>\n",
       "      <td>744.007615</td>\n",
       "      <td>2007-09-01</td>\n",
       "      <td>2010-04-08</td>\n",
       "      <td>2002-11-16</td>\n",
       "      <td>8731.948923</td>\n",
       "    </tr>\n",
       "    <tr>\n",
       "      <th>9</th>\n",
       "      <td>Y</td>\n",
       "      <td>45.0</td>\n",
       "      <td>46</td>\n",
       "      <td>12</td>\n",
       "      <td>Married</td>\n",
       "      <td>High School</td>\n",
       "      <td>PVE</td>\n",
       "      <td>Male</td>\n",
       "      <td>473.818000</td>\n",
       "      <td>2007-11-27</td>\n",
       "      <td>1991-10-01</td>\n",
       "      <td>2004-11-24</td>\n",
       "      <td>16084.142460</td>\n",
       "    </tr>\n",
       "    <tr>\n",
       "      <th>10</th>\n",
       "      <td>Y</td>\n",
       "      <td>38.0</td>\n",
       "      <td>40</td>\n",
       "      <td>9</td>\n",
       "      <td>Single</td>\n",
       "      <td>High School</td>\n",
       "      <td>PVE</td>\n",
       "      <td>Female</td>\n",
       "      <td>538.629462</td>\n",
       "      <td>2007-10-17</td>\n",
       "      <td>2006-06-12</td>\n",
       "      <td>2008-01-29</td>\n",
       "      <td>13118.739620</td>\n",
       "    </tr>\n",
       "    <tr>\n",
       "      <th>11</th>\n",
       "      <td>Y</td>\n",
       "      <td>48.0</td>\n",
       "      <td>50</td>\n",
       "      <td>11</td>\n",
       "      <td>Married</td>\n",
       "      <td>High School</td>\n",
       "      <td>STE</td>\n",
       "      <td>Male</td>\n",
       "      <td>402.447692</td>\n",
       "      <td>1997-09-01</td>\n",
       "      <td>1992-07-01</td>\n",
       "      <td>2006-04-28</td>\n",
       "      <td>28063.859150</td>\n",
       "    </tr>\n",
       "    <tr>\n",
       "      <th>12</th>\n",
       "      <td>Y</td>\n",
       "      <td>56.0</td>\n",
       "      <td>57</td>\n",
       "      <td>14</td>\n",
       "      <td>Divorced</td>\n",
       "      <td>High School</td>\n",
       "      <td>PVE</td>\n",
       "      <td>Female</td>\n",
       "      <td>626.354692</td>\n",
       "      <td>2005-05-30</td>\n",
       "      <td>2002-11-18</td>\n",
       "      <td>2002-11-27</td>\n",
       "      <td>6084.600692</td>\n",
       "    </tr>\n",
       "    <tr>\n",
       "      <th>13</th>\n",
       "      <td>Y</td>\n",
       "      <td>36.0</td>\n",
       "      <td>39</td>\n",
       "      <td>12</td>\n",
       "      <td>Married</td>\n",
       "      <td>Bachelor</td>\n",
       "      <td>PVE</td>\n",
       "      <td>Male</td>\n",
       "      <td>932.788692</td>\n",
       "      <td>2009-09-01</td>\n",
       "      <td>2004-08-01</td>\n",
       "      <td>2004-08-19</td>\n",
       "      <td>55190.074080</td>\n",
       "    </tr>\n",
       "    <tr>\n",
       "      <th>14</th>\n",
       "      <td>Y</td>\n",
       "      <td>39.0</td>\n",
       "      <td>41</td>\n",
       "      <td>11</td>\n",
       "      <td>Married</td>\n",
       "      <td>Bachelor</td>\n",
       "      <td>PVE</td>\n",
       "      <td>Female</td>\n",
       "      <td>872.725385</td>\n",
       "      <td>2009-06-20</td>\n",
       "      <td>2005-08-01</td>\n",
       "      <td>2005-08-01</td>\n",
       "      <td>29008.478460</td>\n",
       "    </tr>\n",
       "    <tr>\n",
       "      <th>15</th>\n",
       "      <td>Y</td>\n",
       "      <td>42.0</td>\n",
       "      <td>43</td>\n",
       "      <td>12</td>\n",
       "      <td>Married</td>\n",
       "      <td>Bachelor</td>\n",
       "      <td>PVE</td>\n",
       "      <td>Male</td>\n",
       "      <td>7504.292308</td>\n",
       "      <td>1999-02-01</td>\n",
       "      <td>2008-06-27</td>\n",
       "      <td>2005-02-25</td>\n",
       "      <td>35649.951460</td>\n",
       "    </tr>\n",
       "    <tr>\n",
       "      <th>16</th>\n",
       "      <td>Y</td>\n",
       "      <td>50.0</td>\n",
       "      <td>51</td>\n",
       "      <td>13</td>\n",
       "      <td>Single</td>\n",
       "      <td>Bachelor</td>\n",
       "      <td>PVE</td>\n",
       "      <td>Male</td>\n",
       "      <td>808.440769</td>\n",
       "      <td>1677-09-22</td>\n",
       "      <td>2009-09-01</td>\n",
       "      <td>2004-04-21</td>\n",
       "      <td>133846.748800</td>\n",
       "    </tr>\n",
       "    <tr>\n",
       "      <th>17</th>\n",
       "      <td>Y</td>\n",
       "      <td>42.0</td>\n",
       "      <td>43</td>\n",
       "      <td>11</td>\n",
       "      <td>Single</td>\n",
       "      <td>Bachelor</td>\n",
       "      <td>STE</td>\n",
       "      <td>Female</td>\n",
       "      <td>630.092308</td>\n",
       "      <td>2011-12-01</td>\n",
       "      <td>2005-07-01</td>\n",
       "      <td>2006-03-29</td>\n",
       "      <td>29114.937850</td>\n",
       "    </tr>\n",
       "    <tr>\n",
       "      <th>18</th>\n",
       "      <td>Y</td>\n",
       "      <td>50.0</td>\n",
       "      <td>52</td>\n",
       "      <td>13</td>\n",
       "      <td>Married</td>\n",
       "      <td>High School</td>\n",
       "      <td>PVE</td>\n",
       "      <td>Male</td>\n",
       "      <td>1613.830769</td>\n",
       "      <td>2013-09-14</td>\n",
       "      <td>2003-10-27</td>\n",
       "      <td>2004-01-13</td>\n",
       "      <td>70111.683310</td>\n",
       "    </tr>\n",
       "    <tr>\n",
       "      <th>19</th>\n",
       "      <td>Y</td>\n",
       "      <td>36.0</td>\n",
       "      <td>37</td>\n",
       "      <td>12</td>\n",
       "      <td>Divorced</td>\n",
       "      <td>Bachelor</td>\n",
       "      <td>PVE</td>\n",
       "      <td>Male</td>\n",
       "      <td>1269.230769</td>\n",
       "      <td>1985-01-01</td>\n",
       "      <td>2013-11-25</td>\n",
       "      <td>2004-11-02</td>\n",
       "      <td>74363.169230</td>\n",
       "    </tr>\n",
       "  </tbody>\n",
       "</table>\n",
       "</div>"
      ],
      "text/plain": [
       "   has_mortgage  age_at_origination  age  years_with_bank marital_status  \\\n",
       "0             Y                50.0   52               13        Married   \n",
       "1             Y                48.0   49               11        Married   \n",
       "2             Y                53.0   55               14        Married   \n",
       "3             Y                64.0   66               10        Married   \n",
       "4             Y                46.0   47                9         Single   \n",
       "5             Y                34.0   35               10         Single   \n",
       "6             Y                51.0   53               10        Married   \n",
       "7             Y                56.0   58               10        Married   \n",
       "8             Y                46.0   47               14        Married   \n",
       "9             Y                45.0   46               12        Married   \n",
       "10            Y                38.0   40                9         Single   \n",
       "11            Y                48.0   50               11        Married   \n",
       "12            Y                56.0   57               14       Divorced   \n",
       "13            Y                36.0   39               12        Married   \n",
       "14            Y                39.0   41               11        Married   \n",
       "15            Y                42.0   43               12        Married   \n",
       "16            Y                50.0   51               13         Single   \n",
       "17            Y                42.0   43               11         Single   \n",
       "18            Y                50.0   52               13        Married   \n",
       "19            Y                36.0   37               12       Divorced   \n",
       "\n",
       "      education employment  gender  customer_income current_address_date  \\\n",
       "0   High School        PVE    Male       909.501308           1979-04-18   \n",
       "1   High School        SFE    Male       288.461539           1999-12-16   \n",
       "2      Bachelor        STE    Male      1280.528692           2005-06-28   \n",
       "3      Bachelor        OTH  Female       620.959769           2000-12-22   \n",
       "4       Masters        PVE  Female      2239.853846           2009-08-01   \n",
       "5      Bachelor        STE  Female      1016.004308           1677-09-22   \n",
       "6   High School        STE  Female       458.609231           1992-12-31   \n",
       "7   High School        PVE  Female       615.384615           1998-03-31   \n",
       "8      Bachelor        PVE    Male       744.007615           2007-09-01   \n",
       "9   High School        PVE    Male       473.818000           2007-11-27   \n",
       "10  High School        PVE  Female       538.629462           2007-10-17   \n",
       "11  High School        STE    Male       402.447692           1997-09-01   \n",
       "12  High School        PVE  Female       626.354692           2005-05-30   \n",
       "13     Bachelor        PVE    Male       932.788692           2009-09-01   \n",
       "14     Bachelor        PVE  Female       872.725385           2009-06-20   \n",
       "15     Bachelor        PVE    Male      7504.292308           1999-02-01   \n",
       "16     Bachelor        PVE    Male       808.440769           1677-09-22   \n",
       "17     Bachelor        STE  Female       630.092308           2011-12-01   \n",
       "18  High School        PVE    Male      1613.830769           2013-09-14   \n",
       "19     Bachelor        PVE    Male      1269.230769           1985-01-01   \n",
       "\n",
       "   current_job_date current_with_bank_date  current_balance_eur  \n",
       "0        2010-01-01             2004-03-16          7648.350692  \n",
       "1        2004-01-20             2005-11-07         30189.904920  \n",
       "2        1990-09-01             2003-06-25         50553.174540  \n",
       "3        1677-09-22             2006-12-21         15907.283380  \n",
       "4        2013-12-24             2007-08-07         27916.192620  \n",
       "5        2006-08-01             2006-08-02         26571.472000  \n",
       "6        1984-12-13             2006-10-27         21949.504000  \n",
       "7        2005-09-20             2007-06-27         50387.558850  \n",
       "8        2010-04-08             2002-11-16          8731.948923  \n",
       "9        1991-10-01             2004-11-24         16084.142460  \n",
       "10       2006-06-12             2008-01-29         13118.739620  \n",
       "11       1992-07-01             2006-04-28         28063.859150  \n",
       "12       2002-11-18             2002-11-27          6084.600692  \n",
       "13       2004-08-01             2004-08-19         55190.074080  \n",
       "14       2005-08-01             2005-08-01         29008.478460  \n",
       "15       2008-06-27             2005-02-25         35649.951460  \n",
       "16       2009-09-01             2004-04-21        133846.748800  \n",
       "17       2005-07-01             2006-03-29         29114.937850  \n",
       "18       2003-10-27             2004-01-13         70111.683310  \n",
       "19       2013-11-25             2004-11-02         74363.169230  "
      ]
     },
     "execution_count": 5,
     "metadata": {},
     "output_type": "execute_result"
    }
   ],
   "source": [
    "retail_data.head(20)"
   ]
  },
  {
   "cell_type": "markdown",
   "id": "261c0f8d",
   "metadata": {},
   "source": [
    "# Exploratory Data Analysis"
   ]
  },
  {
   "cell_type": "markdown",
   "id": "e1264344",
   "metadata": {},
   "source": [
    "Descriptive statistics for attributes separated by morgage status:"
   ]
  },
  {
   "cell_type": "code",
   "execution_count": 6,
   "id": "299a6cb8",
   "metadata": {
    "scrolled": true
   },
   "outputs": [
    {
     "data": {
      "text/html": [
       "<div>\n",
       "<style scoped>\n",
       "    .dataframe tbody tr th:only-of-type {\n",
       "        vertical-align: middle;\n",
       "    }\n",
       "\n",
       "    .dataframe tbody tr th {\n",
       "        vertical-align: top;\n",
       "    }\n",
       "\n",
       "    .dataframe thead tr th {\n",
       "        text-align: left;\n",
       "    }\n",
       "</style>\n",
       "<table border=\"1\" class=\"dataframe\">\n",
       "  <thead>\n",
       "    <tr>\n",
       "      <th></th>\n",
       "      <th colspan=\"4\" halign=\"left\">Mortgage</th>\n",
       "      <th colspan=\"4\" halign=\"left\">No mortgage</th>\n",
       "    </tr>\n",
       "    <tr>\n",
       "      <th></th>\n",
       "      <th>age</th>\n",
       "      <th>years_with_bank</th>\n",
       "      <th>customer_income</th>\n",
       "      <th>current_balance_eur</th>\n",
       "      <th>age</th>\n",
       "      <th>years_with_bank</th>\n",
       "      <th>customer_income</th>\n",
       "      <th>current_balance_eur</th>\n",
       "    </tr>\n",
       "  </thead>\n",
       "  <tbody>\n",
       "    <tr>\n",
       "      <th>count</th>\n",
       "      <td>306.000000</td>\n",
       "      <td>306.000000</td>\n",
       "      <td>306.000000</td>\n",
       "      <td>306.000000</td>\n",
       "      <td>23677.000000</td>\n",
       "      <td>23677.000000</td>\n",
       "      <td>23677.000000</td>\n",
       "      <td>23677.000000</td>\n",
       "    </tr>\n",
       "    <tr>\n",
       "      <th>mean</th>\n",
       "      <td>42.852941</td>\n",
       "      <td>9.326797</td>\n",
       "      <td>1132.001992</td>\n",
       "      <td>33739.856467</td>\n",
       "      <td>49.083879</td>\n",
       "      <td>7.345525</td>\n",
       "      <td>371.813207</td>\n",
       "      <td>1550.144729</td>\n",
       "    </tr>\n",
       "    <tr>\n",
       "      <th>std</th>\n",
       "      <td>9.040960</td>\n",
       "      <td>4.164377</td>\n",
       "      <td>2104.411121</td>\n",
       "      <td>24576.274230</td>\n",
       "      <td>13.000376</td>\n",
       "      <td>4.316837</td>\n",
       "      <td>418.422117</td>\n",
       "      <td>2134.720926</td>\n",
       "    </tr>\n",
       "    <tr>\n",
       "      <th>min</th>\n",
       "      <td>23.000000</td>\n",
       "      <td>0.000000</td>\n",
       "      <td>120.125000</td>\n",
       "      <td>0.000000</td>\n",
       "      <td>20.000000</td>\n",
       "      <td>0.000000</td>\n",
       "      <td>0.000000</td>\n",
       "      <td>0.000000</td>\n",
       "    </tr>\n",
       "    <tr>\n",
       "      <th>25%</th>\n",
       "      <td>36.000000</td>\n",
       "      <td>7.000000</td>\n",
       "      <td>401.586923</td>\n",
       "      <td>18594.195822</td>\n",
       "      <td>39.000000</td>\n",
       "      <td>3.000000</td>\n",
       "      <td>211.620385</td>\n",
       "      <td>104.124154</td>\n",
       "    </tr>\n",
       "    <tr>\n",
       "      <th>50%</th>\n",
       "      <td>42.000000</td>\n",
       "      <td>11.000000</td>\n",
       "      <td>696.556885</td>\n",
       "      <td>27513.812885</td>\n",
       "      <td>49.000000</td>\n",
       "      <td>8.000000</td>\n",
       "      <td>285.506615</td>\n",
       "      <td>408.526154</td>\n",
       "    </tr>\n",
       "    <tr>\n",
       "      <th>75%</th>\n",
       "      <td>49.000000</td>\n",
       "      <td>12.000000</td>\n",
       "      <td>1111.791635</td>\n",
       "      <td>42345.789828</td>\n",
       "      <td>60.000000</td>\n",
       "      <td>11.000000</td>\n",
       "      <td>401.290000</td>\n",
       "      <td>2269.940385</td>\n",
       "    </tr>\n",
       "    <tr>\n",
       "      <th>max</th>\n",
       "      <td>66.000000</td>\n",
       "      <td>15.000000</td>\n",
       "      <td>25741.920000</td>\n",
       "      <td>187940.645500</td>\n",
       "      <td>92.000000</td>\n",
       "      <td>40.000000</td>\n",
       "      <td>24954.291690</td>\n",
       "      <td>43291.802540</td>\n",
       "    </tr>\n",
       "  </tbody>\n",
       "</table>\n",
       "</div>"
      ],
      "text/plain": [
       "         Mortgage                                                      \\\n",
       "              age years_with_bank customer_income current_balance_eur   \n",
       "count  306.000000      306.000000      306.000000          306.000000   \n",
       "mean    42.852941        9.326797     1132.001992        33739.856467   \n",
       "std      9.040960        4.164377     2104.411121        24576.274230   \n",
       "min     23.000000        0.000000      120.125000            0.000000   \n",
       "25%     36.000000        7.000000      401.586923        18594.195822   \n",
       "50%     42.000000       11.000000      696.556885        27513.812885   \n",
       "75%     49.000000       12.000000     1111.791635        42345.789828   \n",
       "max     66.000000       15.000000    25741.920000       187940.645500   \n",
       "\n",
       "        No mortgage                                                      \n",
       "                age years_with_bank customer_income current_balance_eur  \n",
       "count  23677.000000    23677.000000    23677.000000        23677.000000  \n",
       "mean      49.083879        7.345525      371.813207         1550.144729  \n",
       "std       13.000376        4.316837      418.422117         2134.720926  \n",
       "min       20.000000        0.000000        0.000000            0.000000  \n",
       "25%       39.000000        3.000000      211.620385          104.124154  \n",
       "50%       49.000000        8.000000      285.506615          408.526154  \n",
       "75%       60.000000       11.000000      401.290000         2269.940385  \n",
       "max       92.000000       40.000000    24954.291690        43291.802540  "
      ]
     },
     "execution_count": 6,
     "metadata": {},
     "output_type": "execute_result"
    }
   ],
   "source": [
    "attributes = ['age','years_with_bank', 'marital_status', 'employment','education'\n",
    "               ,'employment', 'gender', 'customer_income', 'current_balance_eur']\n",
    "             \n",
    "customers_with_mortgage = retail_data[retail_data.has_mortgage == 'Y'][attributes]\n",
    "customers_without_mortgage = retail_data[retail_data.has_mortgage == 'N'][attributes]\n",
    "\n",
    "pd.concat([customers_with_mortgage.describe(),customers_without_mortgage.describe()], axis=1, keys=['Mortgage','No mortgage'])"
   ]
  },
  {
   "cell_type": "markdown",
   "id": "663e47f6",
   "metadata": {},
   "source": [
    "Observation:  \n",
    "- Mean for customer income and customer balance are higher for those who have mortgage. \n",
    "- The mean of years_with_bank is higher for those with the status of mortgage.  \n",
    "- Mean age is lower for those with positive mortgage status.  \n",
    "  "
   ]
  },
  {
   "cell_type": "code",
   "execution_count": 7,
   "id": "b3e5049f",
   "metadata": {
    "scrolled": true
   },
   "outputs": [
    {
     "data": {
      "text/plain": [
       "Counter({'Y': 306, 'N': 23677})"
      ]
     },
     "execution_count": 7,
     "metadata": {},
     "output_type": "execute_result"
    },
    {
     "data": {
      "image/png": "[encoded data removed]",
      "text/plain": [
       "<Figure size 432x288 with 1 Axes>"
      ]
     },
     "metadata": {},
     "output_type": "display_data"
    }
   ],
   "source": [
    "fig = plt.figure()\n",
    "mortgage = sns.countplot(x='has_mortgage',data=retail_data)     \n",
    "Counter(retail_data.has_mortgage.values)"
   ]
  },
  {
   "cell_type": "markdown",
   "id": "1fa61fe1",
   "metadata": {},
   "source": [
    "- Dataset has skrewed distribution."
   ]
  },
  {
   "cell_type": "markdown",
   "id": "aa05691f",
   "metadata": {},
   "source": [
    "### Observing the variables effect on the target variable\n",
    "  \n",
    "Average age of people when they got mortgage:"
   ]
  },
  {
   "cell_type": "code",
   "execution_count": 8,
   "id": "ed39ea45",
   "metadata": {
    "scrolled": true
   },
   "outputs": [
    {
     "data": {
      "image/png": "[encoded data removed]",
      "text/plain": [
       "<Figure size 432x288 with 1 Axes>"
      ]
     },
     "metadata": {},
     "output_type": "display_data"
    }
   ],
   "source": [
    "customers_with_mortgage = retail_data[retail_data.has_mortgage == 'Y']\n",
    "\n",
    "age = sns.histplot(x='age_at_origination',data=customers_with_mortgage)"
   ]
  },
  {
   "cell_type": "markdown",
   "id": "6b4ce371",
   "metadata": {},
   "source": [
    "- Age of people when they accepted mortgage is in range 38-40 years."
   ]
  },
  {
   "cell_type": "markdown",
   "id": "e3c85645",
   "metadata": {},
   "source": [
    "Employment "
   ]
  },
  {
   "cell_type": "code",
   "execution_count": 9,
   "id": "eeb1f005",
   "metadata": {
    "scrolled": true
   },
   "outputs": [
    {
     "data": {
      "image/png": "[encoded data removed]",
      "text/plain": [
       "<Figure size 432x288 with 1 Axes>"
      ]
     },
     "metadata": {},
     "output_type": "display_data"
    }
   ],
   "source": [
    "employment_plot = sns.countplot(x='employment',data=customers_with_mortgage)"
   ]
  },
  {
   "cell_type": "markdown",
   "id": "e4c71c0e",
   "metadata": {},
   "source": [
    "- The majority of mortgage users are employed(PVE)."
   ]
  },
  {
   "cell_type": "markdown",
   "id": "e5666985",
   "metadata": {},
   "source": [
    "Gender"
   ]
  },
  {
   "cell_type": "code",
   "execution_count": 10,
   "id": "93ed0d7a",
   "metadata": {
    "scrolled": true
   },
   "outputs": [
    {
     "data": {
      "image/png": "[encoded data removed]",
      "text/plain": [
       "<Figure size 432x288 with 1 Axes>"
      ]
     },
     "metadata": {},
     "output_type": "display_data"
    }
   ],
   "source": [
    "gender_plot = sns.countplot(x='gender',data=customers_with_mortgage)"
   ]
  },
  {
   "cell_type": "markdown",
   "id": "64fa2d96",
   "metadata": {},
   "source": [
    "- Gender may not have any significant impact when it comes to mortgage status."
   ]
  },
  {
   "cell_type": "markdown",
   "id": "807906a8",
   "metadata": {},
   "source": [
    "Marital status"
   ]
  },
  {
   "cell_type": "code",
   "execution_count": 11,
   "id": "50cac07b",
   "metadata": {},
   "outputs": [
    {
     "data": {
      "image/png": "[encoded data removed]",
      "text/plain": [
       "<Figure size 432x288 with 1 Axes>"
      ]
     },
     "metadata": {},
     "output_type": "display_data"
    }
   ],
   "source": [
    "gender_plot = sns.countplot(x='marital_status',data=customers_with_mortgage)"
   ]
  },
  {
   "cell_type": "markdown",
   "id": "4e7e04aa",
   "metadata": {},
   "source": [
    "- Married people are more likely to have mortgage."
   ]
  },
  {
   "cell_type": "markdown",
   "id": "add640ef",
   "metadata": {},
   "source": [
    "Education"
   ]
  },
  {
   "cell_type": "code",
   "execution_count": 12,
   "id": "512581ba",
   "metadata": {
    "scrolled": true
   },
   "outputs": [
    {
     "data": {
      "image/png": "[encoded data removed]",
      "text/plain": [
       "<Figure size 432x288 with 1 Axes>"
      ]
     },
     "metadata": {},
     "output_type": "display_data"
    }
   ],
   "source": [
    "education_plot = sns.countplot(x='education',data=customers_with_mortgage)"
   ]
  },
  {
   "cell_type": "markdown",
   "id": "36566122",
   "metadata": {},
   "source": [
    "- The majority of mortgage users have Bachelor degreee."
   ]
  },
  {
   "cell_type": "markdown",
   "id": "09f66550",
   "metadata": {},
   "source": [
    "### Plotting the target vs distribution of numerical variables: customer income, current_balance_eur"
   ]
  },
  {
   "cell_type": "code",
   "execution_count": 13,
   "id": "80d1711b",
   "metadata": {},
   "outputs": [
    {
     "data": {
      "image/png": "[encoded data removed]",
      "text/plain": [
       "<Figure size 864x720 with 4 Axes>"
      ]
     },
     "metadata": {},
     "output_type": "display_data"
    }
   ],
   "source": [
    "fig, ax = plt.subplots(2, 2, figsize=(12, 10))\n",
    "\n",
    "target_uniq = retail_data.has_mortgage.unique()\n",
    "ax[0, 0].set_title(\"Distribution for target=\" + str(target_uniq[0]))\n",
    "#ax[0, 0].set_xlim(-5,20)\n",
    "sns.histplot(data=retail_data[retail_data.has_mortgage == target_uniq[0]],x='customer_income',kde=True,ax=ax[0, 0],color=\"teal\",stat=\"density\",)\n",
    "\n",
    "target_uniq = retail_data.has_mortgage.unique()\n",
    "ax[0, 1].set_title(\"Distribution for target=\" + str(target_uniq[1]))\n",
    "#ax[0, 1].set_xlim(-5,20)\n",
    "sns.histplot(data=retail_data[retail_data.has_mortgage == target_uniq[1]],x='customer_income',kde=True,ax=ax[0, 1],color=\"teal\",stat=\"density\",)\n",
    "\n",
    "ax[1, 0].set_title(\"Boxplot \")\n",
    "sns.boxplot(data=retail_data, x='has_mortgage', y='customer_income', ax=ax[1, 0])\n",
    "plot = sns.boxplot(data=retail_data, x='has_mortgage', y='customer_income', ax=ax[1, 1],showfliers=False)"
   ]
  },
  {
   "cell_type": "markdown",
   "id": "fc17b443",
   "metadata": {},
   "source": [
    "Confusion matrix:"
   ]
  },
  {
   "cell_type": "code",
   "execution_count": 14,
   "id": "a207b4f2",
   "metadata": {
    "scrolled": false
   },
   "outputs": [
    {
     "data": {
      "image/png": "[encoded data removed]",
      "text/plain": [
       "<Figure size 720x360 with 2 Axes>"
      ]
     },
     "metadata": {},
     "output_type": "display_data"
    }
   ],
   "source": [
    "fig = plt.figure(figsize=(10, 5))\n",
    "corr = retail_data.corr()\n",
    "hm = sns.heatmap(round(corr,2), annot=True,fmt='.2f',linewidths=.05)"
   ]
  },
  {
   "cell_type": "markdown",
   "id": "7d4a2f4a",
   "metadata": {},
   "source": [
    "- Other things can further be explored, such as correlations between some variables, exploring/transforming variables related to time format, etc"
   ]
  },
  {
   "cell_type": "markdown",
   "id": "91e514da",
   "metadata": {},
   "source": [
    "# Model building"
   ]
  },
  {
   "cell_type": "markdown",
   "id": "62cb47b1",
   "metadata": {},
   "source": [
    "The general orientation  maintain rather than redefining the meaning of positive and negative. Binary classification model with positives/negatives is used.\n",
    "Dataset is unbalanced, with low number of positives (~1%) and high number of negatives. Some techniques to balance dataset are applied later\n"
   ]
  },
  {
   "cell_type": "markdown",
   "id": "a5ff6759",
   "metadata": {},
   "source": [
    "  Scaling numerical features"
   ]
  },
  {
   "cell_type": "code",
   "execution_count": 15,
   "id": "68536e08",
   "metadata": {},
   "outputs": [],
   "source": [
    "numeric_feature_names = ['age', 'years_with_bank','customer_income', 'current_balance_eur']\n",
    "\n",
    "from sklearn.preprocessing import StandardScaler\n",
    "ss = StandardScaler()\n",
    "ss.fit(retail_data[numeric_feature_names])\n",
    "retail_data[numeric_feature_names] = ss.transform(retail_data[numeric_feature_names])"
   ]
  },
  {
   "cell_type": "markdown",
   "id": "cc1b1561",
   "metadata": {},
   "source": [
    "One hot encoding for categorical features"
   ]
  },
  {
   "cell_type": "code",
   "execution_count": 16,
   "id": "ffcb2ee9",
   "metadata": {},
   "outputs": [],
   "source": [
    "retail_data['has_mortgage'] = retail_data['has_mortgage'].map({'Y': 1, 'N': 0})\n",
    "\n",
    "df_model = pd.get_dummies(retail_data, columns=['marital_status','education','gender','employment'], drop_first= True)\n",
    "    \n",
    "X = df_model.drop(['age_at_origination','has_mortgage','current_address_date','current_job_date','current_with_bank_date'],axis=1)\n",
    "y = retail_data['has_mortgage']\n"
   ]
  },
  {
   "cell_type": "markdown",
   "id": "6e07d68b",
   "metadata": {},
   "source": [
    "Some classification models are considered, such as:\n",
    "- Logistic Regression\n",
    "- Decision trees\n",
    "- Random forests\n",
    "- SVM\n",
    "- Neural networks"
   ]
  },
  {
   "cell_type": "markdown",
   "id": "99cd5ddf",
   "metadata": {},
   "source": [
    "Logistic regression"
   ]
  },
  {
   "cell_type": "code",
   "execution_count": 17,
   "id": "b9b42d89",
   "metadata": {},
   "outputs": [
    {
     "name": "stdout",
     "output_type": "stream",
     "text": [
      "accuracy score: 0.9974\n",
      "\n",
      "Classification Report: \n",
      "               precision    recall  f1-score   support\n",
      "\n",
      "           0       1.00      1.00      1.00      7098\n",
      "           1       0.96      0.84      0.90        97\n",
      "\n",
      "    accuracy                           1.00      7195\n",
      "   macro avg       0.98      0.92      0.95      7195\n",
      "weighted avg       1.00      1.00      1.00      7195\n",
      "\n",
      "\n",
      "Confusion Matrix: \n",
      " [[7095    3]\n",
      " [  16   81]]\n",
      "\n"
     ]
    }
   ],
   "source": [
    "X_train, X_test, y_train, y_test = train_test_split(X, y, test_size=0.3, random_state=1)\n",
    "\n",
    "lg = LogisticRegression(solver=\"newton-cg\", random_state=1)\n",
    "model = lg.fit(X_train, y_train)\n",
    "y_pred = lg.predict(X_test)\n",
    "       \n",
    "print(\"accuracy score: {0:.4f}\\n\".format(accuracy_score(y_test, y_pred)))\n",
    "print(\"Classification Report: \\n {}\\n\".format(classification_report(y_test, y_pred)))\n",
    "print(\"Confusion Matrix: \\n {}\\n\".format(confusion_matrix(y_test, y_pred))) "
   ]
  },
  {
   "cell_type": "markdown",
   "id": "1dd301a1",
   "metadata": {},
   "source": [
    "- Since dataset is unbalanced, some other tecnhiques such as oversampling are added. Further tuning needeed.  \n",
    "- The estimate is changed from accuracy to other measures. "
   ]
  },
  {
   "cell_type": "markdown",
   "id": "44c8fc3b",
   "metadata": {},
   "source": [
    "Model evaluation:    \n",
    "Predicting a customer will 'accept' a mortgage but in reality the customer would not.  \n",
    "Predicting a customer will not accept but in reality the customer would have accepted a mortgaga -loss of opportunity. Reducing FN, recall."
   ]
  },
  {
   "cell_type": "markdown",
   "id": "2440ee12",
   "metadata": {},
   "source": [
    "Logistic regression with oversampling"
   ]
  },
  {
   "cell_type": "code",
   "execution_count": 18,
   "id": "5e226836",
   "metadata": {},
   "outputs": [
    {
     "name": "stdout",
     "output_type": "stream",
     "text": [
      "accuracy score: 0.9736\n",
      "\n",
      "Classification Report: \n",
      "               precision    recall  f1-score   support\n",
      "\n",
      "           0       1.00      0.97      0.99      7098\n",
      "           1       0.33      0.96      0.49        97\n",
      "\n",
      "    accuracy                           0.97      7195\n",
      "   macro avg       0.67      0.97      0.74      7195\n",
      "weighted avg       0.99      0.97      0.98      7195\n",
      "\n",
      "\n"
     ]
    }
   ],
   "source": [
    "over = RandomOverSampler(sampling_strategy=1)\n",
    "X_smote, y_smote = over.fit_resample(X_train, y_train)\n",
    "model = LogisticRegression().fit(X_smote, y_smote)\n",
    "y_pred = model.predict(X_test)\n",
    "\n",
    "print(\"accuracy score: {0:.4f}\\n\".format(accuracy_score(y_test, y_pred)))\n",
    "print(\"Classification Report: \\n {}\\n\".format(classification_report(y_test, y_pred)))"
   ]
  },
  {
   "cell_type": "markdown",
   "id": "3a3ef57a",
   "metadata": {},
   "source": [
    "Random forest with weights"
   ]
  },
  {
   "cell_type": "code",
   "execution_count": 19,
   "id": "6e347201",
   "metadata": {},
   "outputs": [
    {
     "name": "stdout",
     "output_type": "stream",
     "text": [
      "accuracy score: 0.9964\n",
      "\n",
      "Classification Report: \n",
      "               precision    recall  f1-score   support\n",
      "\n",
      "           0       1.00      1.00      1.00      7098\n",
      "           1       0.93      0.79      0.86        97\n",
      "\n",
      "    accuracy                           1.00      7195\n",
      "   macro avg       0.96      0.90      0.93      7195\n",
      "weighted avg       1.00      1.00      1.00      7195\n",
      "\n",
      "\n",
      "Confusion Matrix: \n",
      " [[7092    6]\n",
      " [  20   77]]\n",
      "\n"
     ]
    },
    {
     "data": {
      "image/png": "[encoded data removed]",
      "text/plain": [
       "<Figure size 432x288 with 1 Axes>"
      ]
     },
     "metadata": {},
     "output_type": "display_data"
    }
   ],
   "source": [
    "rf = RandomForestClassifier(n_estimators=10, class_weight='balanced')\n",
    "model = rf.fit(X_train, y_train)\n",
    "y_pred = rf.predict(X_test)\n",
    "       \n",
    "print(\"accuracy score: {0:.4f}\\n\".format(accuracy_score(y_test, y_pred)))\n",
    "print(\"Classification Report: \\n {}\\n\".format(classification_report(y_test, y_pred)))\n",
    "print(\"Confusion Matrix: \\n {}\\n\".format(confusion_matrix(y_test, y_pred))) \n",
    "\n",
    "feat_importances = pd.Series(model.feature_importances_, index=X.columns)\n",
    "plot = feat_importances.nlargest(4).plot(kind='barh',grid='False')"
   ]
  },
  {
   "cell_type": "markdown",
   "id": "324fe3c8",
   "metadata": {},
   "source": [
    "XGBoost"
   ]
  },
  {
   "cell_type": "code",
   "execution_count": 20,
   "id": "a65f4c42",
   "metadata": {},
   "outputs": [
    {
     "name": "stdout",
     "output_type": "stream",
     "text": [
      "accuracy score: 0.9972\n",
      "\n",
      "Classification Report: \n",
      "               precision    recall  f1-score   support\n",
      "\n",
      "           0       1.00      1.00      1.00      7098\n",
      "           1       0.91      0.89      0.90        97\n",
      "\n",
      "    accuracy                           1.00      7195\n",
      "   macro avg       0.95      0.94      0.95      7195\n",
      "weighted avg       1.00      1.00      1.00      7195\n",
      "\n",
      "\n",
      "Confusion Matrix: \n",
      " [[7089    9]\n",
      " [  11   86]]\n",
      "\n"
     ]
    },
    {
     "data": {
      "image/png": "[encoded data removed]",
      "text/plain": [
       "<Figure size 432x288 with 1 Axes>"
      ]
     },
     "metadata": {},
     "output_type": "display_data"
    }
   ],
   "source": [
    "xgb = XGBClassifier(scale_pos_weight=99,use_label_encoder=False, eval_metric='logloss')\n",
    "cv = RepeatedStratifiedKFold(n_splits=10, n_repeats=3, random_state=1)\n",
    "scores = cross_val_score(model, X, y, scoring='roc_auc', cv=cv, n_jobs=-1)\n",
    "model = xgb.fit(X_train, y_train)\n",
    "y_pred = xgb.predict(X_test)\n",
    "       \n",
    "print(\"accuracy score: {0:.4f}\\n\".format(accuracy_score(y_test, y_pred)))\n",
    "print(\"Classification Report: \\n {}\\n\".format(classification_report(y_test, y_pred)))\n",
    "print(\"Confusion Matrix: \\n {}\\n\".format(confusion_matrix(y_test, y_pred))) \n",
    "\n",
    "feat_importances = pd.Series(model.feature_importances_, index=X.columns)\n",
    "feat_importances.nlargest(4).plot(kind='barh')\n",
    "\n",
    "filename = 'model.sav'\n",
    "pickle.dump(model, open(filename, 'wb'))\n",
    "\n",
    "y_pred_prob = xgb.predict_proba(X_test) # output as probabilities.\n",
    "# The model should be used on potential_customers set. Plot auc and other. Additional analysis. \n",
    "# Separate function for accuracy, classification, confusion matrix.\n",
    "# Visual of confusion matrix. Further investigate models."
   ]
  }
 ],
 "metadata": {
  "kernelspec": {
   "display_name": "Python 3 (ipykernel)",
   "language": "python",
   "name": "python3"
  },
  "language_info": {
   "codemirror_mode": {
    "name": "ipython",
    "version": 3
   },
   "file_extension": ".py",
   "mimetype": "text/x-python",
   "name": "python",
   "nbconvert_exporter": "python",
   "pygments_lexer": "ipython3",
   "version": "3.8.2"
  }
 },
 "nbformat": 4,
 "nbformat_minor": 5
}
